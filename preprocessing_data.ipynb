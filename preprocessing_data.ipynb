{
  "nbformat": 4,
  "nbformat_minor": 0,
  "metadata": {
    "colab": {
      "name": "preprocessing_data.ipynb",
      "provenance": [],
      "authorship_tag": "ABX9TyML1ec+ACLqMH4l/3/Af2WF",
      "include_colab_link": true
    },
    "kernelspec": {
      "name": "python3",
      "display_name": "Python 3"
    },
    "language_info": {
      "name": "python"
    }
  },
  "cells": [
    {
      "cell_type": "markdown",
      "metadata": {
        "id": "view-in-github",
        "colab_type": "text"
      },
      "source": [
        "<a href=\"https://colab.research.google.com/github/blackcode-creator/Preprocessing_data_techniques/blob/main/preprocessing_data.ipynb\" target=\"_parent\"><img src=\"https://colab.research.google.com/assets/colab-badge.svg\" alt=\"Open In Colab\"/></a>"
      ]
    },
    {
      "cell_type": "code",
      "execution_count": null,
      "metadata": {
        "colab": {
          "base_uri": "https://localhost:8080/"
        },
        "id": "HmSKL7D0OX7S",
        "outputId": "ff6d857e-8d8b-4b50-951e-de9140b435ee"
      },
      "outputs": [
        {
          "output_type": "stream",
          "name": "stdout",
          "text": [
            "Looking in indexes: https://pypi.org/simple, https://us-python.pkg.dev/colab-wheels/public/simple/\n",
            "Requirement already satisfied: numpy in /usr/local/lib/python3.7/dist-packages (1.21.6)\n",
            "Requirement already satisfied: sklearn in /usr/local/lib/python3.7/dist-packages (0.0)\n",
            "Requirement already satisfied: scikit-learn in /usr/local/lib/python3.7/dist-packages (from sklearn) (1.0.2)\n",
            "Requirement already satisfied: joblib>=0.11 in /usr/local/lib/python3.7/dist-packages (from scikit-learn->sklearn) (1.1.0)\n",
            "Requirement already satisfied: scipy>=1.1.0 in /usr/local/lib/python3.7/dist-packages (from scikit-learn->sklearn) (1.4.1)\n",
            "Requirement already satisfied: threadpoolctl>=2.0.0 in /usr/local/lib/python3.7/dist-packages (from scikit-learn->sklearn) (3.1.0)\n"
          ]
        }
      ],
      "source": [
        "!pip install numpy sklearn"
      ]
    },
    {
      "cell_type": "code",
      "source": [
        "#this is preprocessing data before training the model to use correct format of data\n",
        "import numpy as np\n",
        "from sklearn import preprocessing"
      ],
      "metadata": {
        "id": "ZKiAgx1LPFe4"
      },
      "execution_count": 2,
      "outputs": []
    },
    {
      "cell_type": "code",
      "source": [
        "input_data = np.array(\n",
        "    [\n",
        "     [5.1, -2.9, 3.3],\n",
        "     [-1.2, 7.8, -6.1],\n",
        "     [7.3, -9.9, -4.5]\n",
        "    ]\n",
        ")"
      ],
      "metadata": {
        "id": "NLYDjXXBPK62"
      },
      "execution_count": 3,
      "outputs": []
    },
    {
      "cell_type": "code",
      "source": [
        "#check the input data\n",
        "print(input_data)\n",
        "\n",
        "\n",
        "#There are several technique of processing data in various different \n",
        "# 1. Binarization\n",
        "# 2. Mean Removal \n",
        "# 3. Scaling\n",
        "# 4. Normalization"
      ],
      "metadata": {
        "colab": {
          "base_uri": "https://localhost:8080/"
        },
        "id": "NeRboCDnPqMu",
        "outputId": "8daa4265-2793-4ff4-989f-5dab5de6a031"
      },
      "execution_count": 4,
      "outputs": [
        {
          "output_type": "stream",
          "name": "stdout",
          "text": [
            "[[ 5.1 -2.9  3.3]\n",
            " [-1.2  7.8 -6.1]\n",
            " [ 7.3 -9.9 -4.5]]\n"
          ]
        }
      ]
    },
    {
      "cell_type": "code",
      "source": [
        "#Binarization Technique\n",
        "# Process of converting numerical values to boolean values\n",
        "# We will use 2.1 as the threshold value\n",
        "data_binarized = preprocessing.Binarizer(threshold=2.1).transform(input_data)\n",
        "\n",
        "print(\"\\nBinarized data:\\n\", data_binarized)\n",
        "#Output the convert from numerical values to binary values"
      ],
      "metadata": {
        "colab": {
          "base_uri": "https://localhost:8080/"
        },
        "id": "x9GaLEwrP2Nz",
        "outputId": "85b78846-f90e-42e5-80a4-313adebea774"
      },
      "execution_count": 5,
      "outputs": [
        {
          "output_type": "stream",
          "name": "stdout",
          "text": [
            "\n",
            "Binarized data:\n",
            " [[1. 0. 1.]\n",
            " [0. 1. 0.]\n",
            " [1. 0. 0.]]\n"
          ]
        }
      ]
    },
    {
      "cell_type": "code",
      "source": [
        "#2. Mean Removal \n",
        "#process of removing the mean from the feature vector so each feature is centered to zero\n",
        "\n",
        "print(\"\\n Before:\")\n",
        "print(\"mean =\", input_data.mean(axis=0))\n",
        "print(\"std deviation =\", input_data.std(axis=0))"
      ],
      "metadata": {
        "id": "aTo1-7hxR3-3",
        "colab": {
          "base_uri": "https://localhost:8080/"
        },
        "outputId": "b35e1829-1066-45d2-cab9-cc485e971c88"
      },
      "execution_count": 7,
      "outputs": [
        {
          "output_type": "stream",
          "name": "stdout",
          "text": [
            "\n",
            " Before:\n",
            "mean = [ 3.73333333 -1.66666667 -2.43333333]\n",
            "std deviation = [3.60215985 7.27843084 4.10636363]\n"
          ]
        }
      ]
    },
    {
      "cell_type": "code",
      "source": [
        "#Removing the mean\n",
        "data_scaled = preprocessing.scale(input_data)\n",
        "print(\"\\n After: \\n\")\n",
        "print(\"Mean = \", data_scaled.mean(axis=0))\n",
        "print(\"std deviation = \", data_scaled.std(axis=0))\n",
        "\n",
        "#the mean value will be very closed to 0 and standard deviation is 1."
      ],
      "metadata": {
        "colab": {
          "base_uri": "https://localhost:8080/"
        },
        "id": "RHOwxlbSyu_2",
        "outputId": "8aab5649-8ff3-42d8-b734-58ac19c394fa"
      },
      "execution_count": 9,
      "outputs": [
        {
          "output_type": "stream",
          "name": "stdout",
          "text": [
            "\n",
            " After: \n",
            "\n",
            "Mean =  [ 7.40148683e-17 -7.40148683e-17 -3.70074342e-17]\n",
            "std deviation =  [1. 1. 1.]\n"
          ]
        }
      ]
    },
    {
      "cell_type": "code",
      "source": [
        "#Scaling Technique\n",
        "#each value of each feature will be varying between many random values.\n",
        "\n",
        "#min max scaling \n",
        "data_scalar_minmax = preprocessing.MinMaxScaler(feature_range =(0, 1))\n",
        "data_scaled_minmax = data_scalar_minmax.fit_transform(input_data)\n",
        "print(\"\\nMin Max scaled data:\\n\", data_scaled_minmax)"
      ],
      "metadata": {
        "colab": {
          "base_uri": "https://localhost:8080/"
        },
        "id": "rcFixH30zzQ4",
        "outputId": "6eaae618-f48e-4d01-8e1a-16ed0f9eeaae"
      },
      "execution_count": 10,
      "outputs": [
        {
          "output_type": "stream",
          "name": "stdout",
          "text": [
            "\n",
            "Min Max scaled data:\n",
            " [[0.74117647 0.39548023 1.        ]\n",
            " [0.         1.         0.        ]\n",
            " [1.         0.         0.17021277]]\n"
          ]
        }
      ]
    },
    {
      "cell_type": "code",
      "source": [
        "#Normalization Technique\n",
        "#modifying the values in the vectors to measure them on a common scale\n",
        "\n",
        "#Normalize data\n",
        "data_normalized_l1 = preprocessing.normalize(input_data, norm =\"l1\")\n",
        "data_normalized_l2 = preprocessing.normalize(input_data,norm=\"l2\")\n",
        "\n",
        "print(\"\\nL1 normalized data:\\n\", data_normalized_l1)\n",
        "print(\"\\nL2 normalized data:\\n\", data_normalized_l2)"
      ],
      "metadata": {
        "colab": {
          "base_uri": "https://localhost:8080/"
        },
        "id": "6-L-1iDO02yo",
        "outputId": "ef9db90d-a387-4a50-d022-50bc183a32c0"
      },
      "execution_count": 11,
      "outputs": [
        {
          "output_type": "stream",
          "name": "stdout",
          "text": [
            "\n",
            "L1 normalized data:\n",
            " [[ 0.45132743 -0.25663717  0.2920354 ]\n",
            " [-0.0794702   0.51655629 -0.40397351]\n",
            " [ 0.33640553 -0.4562212  -0.20737327]]\n",
            "\n",
            "L2 normalized data:\n",
            " [[ 0.75765788 -0.43082507  0.49024922]\n",
            " [-0.12030718  0.78199664 -0.61156148]\n",
            " [ 0.55734935 -0.75585734 -0.34357152]]\n"
          ]
        }
      ]
    }
  ]
}